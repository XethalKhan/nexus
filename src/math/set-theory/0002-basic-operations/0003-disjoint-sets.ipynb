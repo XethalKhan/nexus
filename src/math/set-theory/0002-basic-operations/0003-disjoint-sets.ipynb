{
 "cells": [
  {
   "cell_type": "markdown",
   "id": "1c2bf694-6aa0-49a1-83f1-27e4c912404e",
   "metadata": {},
   "source": [
    "# Disjoint sets\n",
    "\n",
    "## Informal definition\n",
    "\n",
    "Pairs of sets, having no elements in common, are said to be **disjoint**.\n",
    "\n",
    "$$\n",
    "A = \\{ 1, 3, 5, 7, 9 \\}\n",
    "\\;\\;\\;\n",
    "D = \\{ 2, 4, 6, 8, 10 \\}\n",
    "\\;\\;\\;\n",
    "A \\cap D = \\emptyset\n",
    "$$\n",
    "\n",
    "The intersection of $A$ and $D$ provides another justification for the existance of an **empty set** since $A$ and $D$ have no elements in common.\n",
    "\n",
    "## Reference\n",
    "\n",
    "1. Ronald P. Morash, *Bridge to abstract math. Mathematical proof and structures* (page 17)"
   ]
  }
 ],
 "metadata": {
  "kernelspec": {
   "display_name": "Python 3 (ipykernel)",
   "language": "python",
   "name": "python3"
  },
  "language_info": {
   "codemirror_mode": {
    "name": "ipython",
    "version": 3
   },
   "file_extension": ".py",
   "mimetype": "text/x-python",
   "name": "python",
   "nbconvert_exporter": "python",
   "pygments_lexer": "ipython3",
   "version": "3.13.7"
  }
 },
 "nbformat": 4,
 "nbformat_minor": 5
}
