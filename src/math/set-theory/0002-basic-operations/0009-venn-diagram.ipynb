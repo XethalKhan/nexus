{
 "cells": [
  {
   "cell_type": "markdown",
   "id": "8a47723d-1a90-480d-8508-3e4329960932",
   "metadata": {},
   "source": [
    "# Venn diagram\n",
    "\n",
    "Sets pictured by **Venn diagrams** appear as labeled circles inside a rectangle that represents the **universal set** $U$. Most often, such diagrams will involve one, two or three circles with various markings used to match regions in the diagram with sets formed represented by the circles.\n",
    "\n",
    "![Intersection of sets](https://upload.wikimedia.org/wikipedia/commons/9/99/Venn0001.svg)\n",
    "\n",
    "![Union of sets](https://upload.wikimedia.org/wikipedia/commons/3/30/Venn0111.svg)\n",
    "\n",
    "![Symmetric difference of sets](https://upload.wikimedia.org/wikipedia/commons/4/46/Venn0110.svg)\n",
    "\n",
    "![Relative complement](https://upload.wikimedia.org/wikipedia/commons/5/5a/Venn0010.svg)\n",
    "\n",
    "![Absolute complement](https://upload.wikimedia.org/wikipedia/commons/e/eb/Venn1010.svg)\n",
    "\n",
    "## Reference\n",
    "\n",
    "1. Ronald P. Morash, *Bridge to abstract math. Mathematical proof and structures* (page 24)"
   ]
  }
 ],
 "metadata": {
  "kernelspec": {
   "display_name": "Python 3 (ipykernel)",
   "language": "python",
   "name": "python3"
  },
  "language_info": {
   "codemirror_mode": {
    "name": "ipython",
    "version": 3
   },
   "file_extension": ".py",
   "mimetype": "text/x-python",
   "name": "python",
   "nbconvert_exporter": "python",
   "pygments_lexer": "ipython3",
   "version": "3.13.7"
  }
 },
 "nbformat": 4,
 "nbformat_minor": 5
}
