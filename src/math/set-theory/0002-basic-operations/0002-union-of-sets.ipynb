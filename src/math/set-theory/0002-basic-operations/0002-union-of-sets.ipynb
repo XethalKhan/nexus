{
 "cells": [
  {
   "cell_type": "markdown",
   "id": "0404c9c3-903f-4a0c-989d-06621e09ecfc",
   "metadata": {},
   "source": [
    "# Union of sets\n",
    "\n",
    "## Informal definition\n",
    "\n",
    "Let $A$ and $B$ be sets. We define **the union of A and B**, denoted $A \\cup B$ (read **A union B**) by $A \\cup B = \\{ x | x \\in A \\lor x \\in B \\}$.\n",
    "\n",
    "$A \\cup B$ is a set and is formed from $A$ and $B$. It's elements are any object in either $A$ or $B$, including any object that happens to lie in both $A$ and $B$.\n",
    "\n",
    "$$\n",
    "A = \\{ 1, 3, 5, 7, 9 \\}\n",
    "\\;\\;\\;\n",
    "B = \\{ 1, 4, 7, 10, 13, 16 \\}\n",
    "\\;\\;\\;\n",
    "A \\cap B = \\{ 1, 3, 4, 5, 7, 9, 10, 13, 16 \\}\n",
    "$$\n",
    "\n",
    "## Reference\n",
    "\n",
    "1. Ronald P. Morash, *Bridge to abstract math. Mathematical proof and structures* (page 16)"
   ]
  }
 ],
 "metadata": {
  "kernelspec": {
   "display_name": "Python 3 (ipykernel)",
   "language": "python",
   "name": "python3"
  },
  "language_info": {
   "codemirror_mode": {
    "name": "ipython",
    "version": 3
   },
   "file_extension": ".py",
   "mimetype": "text/x-python",
   "name": "python",
   "nbconvert_exporter": "python",
   "pygments_lexer": "ipython3",
   "version": "3.13.7"
  }
 },
 "nbformat": 4,
 "nbformat_minor": 5
}
