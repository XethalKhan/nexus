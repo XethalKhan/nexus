{
 "cells": [
  {
   "cell_type": "markdown",
   "id": "ed240e9a-3612-46c9-abf0-319b41d19739",
   "metadata": {},
   "source": [
    "# Cartesian product\n",
    "\n",
    "## Definition\n",
    "\n",
    "Given sets $A$ and $B$, we define **cartesian product $A \\times B$** (read **A cross B**, cartesian product is often called **cross product**) by the rule $A \\times B = \\{(a, b) | a \\in A \\land b \\in B \\}$\n",
    "\n",
    "If $U$ were the **universal set** for sets $A$ and $B$, it would again be the universal set for $A \\cap B, A \\cup B, A', A - B \\text{ and } A \\triangle B$. Putting it differently, the elements of these sets are the same types of objects as those that constitute $A$ and $B$ themselves. This is not the case for $A \\times B$, **the cartesian product of $A$ and $B$**. The elements of $A \\times B$ are ordered pairs of elements from $A$ and $B$, and thus are not ordinarily members of the **universal set** for $A$ and $B$.\n",
    "\n",
    "An object $x$ is an element of $A \\times B$ if and only if there exist $a \\in A$ and $b \\in B$ such that $x = (a, b)$. Note that there is nothing in the definition to prevent $A$ and $B$ from being the same set.\n",
    "\n",
    "## Reference\n",
    "\n",
    "1. Ronald P. Morash, *Bridge to abstract math. Mathematical proof and structures* (page 22)"
   ]
  }
 ],
 "metadata": {
  "kernelspec": {
   "display_name": "Python 3 (ipykernel)",
   "language": "python",
   "name": "python3"
  },
  "language_info": {
   "codemirror_mode": {
    "name": "ipython",
    "version": 3
   },
   "file_extension": ".py",
   "mimetype": "text/x-python",
   "name": "python",
   "nbconvert_exporter": "python",
   "pygments_lexer": "ipython3",
   "version": "3.13.7"
  }
 },
 "nbformat": 4,
 "nbformat_minor": 5
}
