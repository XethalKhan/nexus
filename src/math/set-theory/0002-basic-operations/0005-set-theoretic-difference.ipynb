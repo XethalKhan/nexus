{
 "cells": [
  {
   "cell_type": "markdown",
   "id": "0d844a2e-18cb-4f25-8c75-8fae811460ac",
   "metadata": {},
   "source": [
    "# Set theoretic difference\n",
    "\n",
    "## Informal definition\n",
    "\n",
    "Let $A$ and $B$ be sets. We define the difference $B - A$ (read **B minus A**) by the rule $B - A = \\{ x | x \\in B \\land x \\notin A \\}$. **Set theoretic difference**, sometimes denoted $A \\backslash B$, is a binary operation that yields complement of $A$ relative to a set $B$. Sometimes, this operation is called **relative complement**.\n",
    "\n",
    "$$\n",
    "\\{ 1, 2, 3 \\} \\backslash \\{ 2, 3, 4 \\} = \\{ 1 \\}\n",
    "\\;\\;\\;\n",
    "\\{ 2, 3, 4 \\} \\backslash \\{1, 2, 3 \\} = \\{4 \\}\n",
    "$$\n",
    "\n",
    "The difference $B - A$, (also called **the complement of A in B** or **the complement of A relative to B**) consists of all objects that are elements of $B$ and are not elements of $A$. If $B = U$, then $B - A = U - A = A'$, the ordinary **complement** of $A$. This **complement** is a special case of **difference**. We do not need to know $U$ in order to compute $B - A$.\n",
    "\n",
    "## Reference\n",
    "\n",
    "1. Ronald P. Morash, *Bridge to abstract math. Mathematical proof and structures* (page 19)"
   ]
  }
 ],
 "metadata": {
  "kernelspec": {
   "display_name": "Python 3 (ipykernel)",
   "language": "python",
   "name": "python3"
  },
  "language_info": {
   "codemirror_mode": {
    "name": "ipython",
    "version": 3
   },
   "file_extension": ".py",
   "mimetype": "text/x-python",
   "name": "python",
   "nbconvert_exporter": "python",
   "pygments_lexer": "ipython3",
   "version": "3.13.7"
  }
 },
 "nbformat": 4,
 "nbformat_minor": 5
}
