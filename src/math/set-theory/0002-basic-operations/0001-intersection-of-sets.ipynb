{
 "cells": [
  {
   "cell_type": "markdown",
   "id": "87155255-7b55-4a94-91fe-77082c654ee9",
   "metadata": {},
   "source": [
    "# Intersection of sets\n",
    "\n",
    "Let $A$ and $B$ be **sets**. We define a set formed from $A$ and $B$, called **the intersection of $A$ and $B$**, denoted $A \\cap B$ (read **A intersection B**) by the rule $A \\cap B = \\{ x | x \\in A \\land x \\in B \\}$.\n",
    "\n",
    "Note that $A \\cap B$ is a **set** whose elements are the objects common to $A$ and $B$.\n",
    "\n",
    "$$\n",
    "A = \\{ 1, 3, 5, 7, 9 \\}\n",
    "\\;\\;\\;\n",
    "B = \\{ 1, 4, 7, 10, 13, 16 \\}\n",
    "\\;\\;\\;\n",
    "A \\cap B = \\{ 1, 7 \\}\n",
    "$$\n",
    "\n",
    "This operation is **binary operation**, it is applied to **two** sets to create third set.\n",
    "\n",
    "## Reference\n",
    "\n",
    "1. Ronald P. Morash, *Bridge to abstract math. Mathematical proof and structures* (page 16)"
   ]
  }
 ],
 "metadata": {
  "kernelspec": {
   "display_name": "Python 3 (ipykernel)",
   "language": "python",
   "name": "python3"
  },
  "language_info": {
   "codemirror_mode": {
    "name": "ipython",
    "version": 3
   },
   "file_extension": ".py",
   "mimetype": "text/x-python",
   "name": "python",
   "nbconvert_exporter": "python",
   "pygments_lexer": "ipython3",
   "version": "3.13.7"
  }
 },
 "nbformat": 4,
 "nbformat_minor": 5
}
