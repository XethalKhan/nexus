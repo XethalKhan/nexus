{
 "cells": [
  {
   "cell_type": "markdown",
   "id": "e4f5e053-f236-49d8-88a6-91c8d0142989",
   "metadata": {},
   "source": [
    "# Ordered pair\n",
    "\n",
    "## Informal definition\n",
    "\n",
    "**Ordered pairs** resemble notationally two-element sets but differ in two important respects. Represented by the symbol $(a, b)$, **the ordered pair $a$ comma $b$** differs from set $\\{ a, b \\}$ in that the order in which the elements are listed makes a difference. Specifically, the ordered pair $(a, b)$ and $(b, a)$ are different, or unequal unless $a = b$.\n",
    "\n",
    "Given ordered pairs $(a, b)$ and $(c, d)$ we say that these ordered pairs are equal, denoted $(a, b) = (c, d)$, if and only if $a = c$ and $b = d$.\n",
    "\n",
    "$$\n",
    "(2, 3) \\neq (3, 2)\n",
    "\\text{ while }\n",
    "\\{ 2, 3 \\} = \\{ 3, 2 \\}\n",
    "$$\n",
    "\n",
    "$(a, a)$ is valid expression, but $\\{ a, a \\}$ is not ($ \\{a \\}$ is correct).\n",
    "\n",
    "## Reference\n",
    "\n",
    "1. Ronald P. Morash, *Bridge to abstract math. Mathematical proof and structures* (page 21)"
   ]
  }
 ],
 "metadata": {
  "kernelspec": {
   "display_name": "Python 3 (ipykernel)",
   "language": "python",
   "name": "python3"
  },
  "language_info": {
   "codemirror_mode": {
    "name": "ipython",
    "version": 3
   },
   "file_extension": ".py",
   "mimetype": "text/x-python",
   "name": "python",
   "nbconvert_exporter": "python",
   "pygments_lexer": "ipython3",
   "version": "3.13.7"
  }
 },
 "nbformat": 4,
 "nbformat_minor": 5
}
