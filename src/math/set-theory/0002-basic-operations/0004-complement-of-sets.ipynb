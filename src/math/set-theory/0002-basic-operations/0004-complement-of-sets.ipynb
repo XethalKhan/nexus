{
 "cells": [
  {
   "cell_type": "markdown",
   "id": "845424f2-da98-4d08-9f30-b683a1085be3",
   "metadata": {},
   "source": [
    "# Complement of sets\n",
    "\n",
    "## Informal definition\n",
    "\n",
    "Let $A$ be a **subset** of a **universal set** $U$. We define **the complement of $A$**, denoted $A'$, by the rule $A' = \\{ x \\in U | x \\notin A \\}$.\n",
    "\n",
    "Complement operation is **unary** - we obtain a resultant set from a single given set. Clearly the complement of $A$ is very much dependent on the **universal set**, as well as on $A$ itself. If $A = \\{ 1 \\}$ then $A'$ is one thing if $U = \\mathbb{N}$, something quite different if $U = \\mathbb{R}$, and something altogether different again if $U = \\{ 1, 2 \\}$ (a **singleton** set in fact, as opposed to an infinite set in the other two cases).\n",
    "\n",
    "## Reference\n",
    "\n",
    "1. Ronald P. Morash, *Bridge to abstract math. Mathematical proof and structures* (page 18)"
   ]
  }
 ],
 "metadata": {
  "kernelspec": {
   "display_name": "Python 3 (ipykernel)",
   "language": "python",
   "name": "python3"
  },
  "language_info": {
   "codemirror_mode": {
    "name": "ipython",
    "version": 3
   },
   "file_extension": ".py",
   "mimetype": "text/x-python",
   "name": "python",
   "nbconvert_exporter": "python",
   "pygments_lexer": "ipython3",
   "version": "3.13.7"
  }
 },
 "nbformat": 4,
 "nbformat_minor": 5
}
