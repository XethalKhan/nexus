{
 "cells": [
  {
   "cell_type": "markdown",
   "id": "82eaacfa-b1aa-4b3b-83e0-981b35142fb8",
   "metadata": {},
   "source": [
    "# Symmetric difference\n",
    "\n",
    "## Informal definition\n",
    "\n",
    "Let $A$ and $B$ be sets. We define the **symmetric difference of $A$ and $B$**, denoted $A \\ominus B$ (sometimes $A \\triangle B$), by the rule $A \\triangle B = (A - B) \\cup (B - A)$.\n",
    "\n",
    "To be in $A \\triangle B$, an object must lie either in $A - B$ or $B - A$, either in $A$ but not in $B$, or in $B$ but not in $A$. Elements of $A \\triangle B$ are objects in one or the other of the sets $A$ and $B$, but not in both.\n",
    "\n",
    "## Reference\n",
    "\n",
    "1. Ronald P. Morash, *Bridge to abstract math. Mathematical proof and structures* (page 20)"
   ]
  }
 ],
 "metadata": {
  "kernelspec": {
   "display_name": "Python 3 (ipykernel)",
   "language": "python",
   "name": "python3"
  },
  "language_info": {
   "codemirror_mode": {
    "name": "ipython",
    "version": 3
   },
   "file_extension": ".py",
   "mimetype": "text/x-python",
   "name": "python",
   "nbconvert_exporter": "python",
   "pygments_lexer": "ipython3",
   "version": "3.13.7"
  }
 },
 "nbformat": 4,
 "nbformat_minor": 5
}
