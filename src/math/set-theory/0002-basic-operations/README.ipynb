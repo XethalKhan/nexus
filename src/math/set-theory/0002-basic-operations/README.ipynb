{
 "cells": [
  {
   "cell_type": "markdown",
   "id": "4c752a54-7f4c-40ce-9cf6-f3bab1ab952f",
   "metadata": {},
   "source": [
    "# Basic operations in set theory\n",
    "\n",
    "Informal introduction\n",
    "\n",
    "## 1. Intersection of sets\n",
    "\n",
    "[Read more](./0001-intersection-of-sets.ipynb)\n",
    "\n",
    "## 2. Union of sets\n",
    "\n",
    "[Read more](./0002-union-of-sets.ipynb)\n",
    "\n",
    "## 3. Disjoint sets\n",
    "\n",
    "[Read more](./0003-disjoint-sets.ipynb)\n",
    "\n",
    "## 4. Complement of sets\n",
    "\n",
    "[Read more](./0004-complement-of-sets.ipynb)\n",
    "\n",
    "## 5. Set theoretic difference\n",
    "\n",
    "[Read more](./0005-set-theoretic-difference.ipynb)\n",
    "\n",
    "## 6. Symmetric difference\n",
    "\n",
    "[Read more](./0006-symmetric-difference.ipynb)\n",
    "\n",
    "## 7. Ordered pair\n",
    "\n",
    "[Read more](./0007-ordered-pair.ipynb)\n",
    "\n",
    "## 8. Cartesian product\n",
    "\n",
    "[Read more](./0008-cartesian-product.ipynb)\n",
    "\n",
    "## 9. Venn diagram\n",
    "\n",
    "[Read more](./0009-venn-diagram.ipynb)"
   ]
  }
 ],
 "metadata": {
  "kernelspec": {
   "display_name": "Python 3 (ipykernel)",
   "language": "python",
   "name": "python3"
  },
  "language_info": {
   "codemirror_mode": {
    "name": "ipython",
    "version": 3
   },
   "file_extension": ".py",
   "mimetype": "text/x-python",
   "name": "python",
   "nbconvert_exporter": "python",
   "pygments_lexer": "ipython3",
   "version": "3.13.7"
  }
 },
 "nbformat": 4,
 "nbformat_minor": 5
}
