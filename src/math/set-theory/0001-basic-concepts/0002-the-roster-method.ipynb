{
 "cells": [
  {
   "cell_type": "markdown",
   "id": "d9ffd621-5e47-496b-a8ed-44e4d3b4444d",
   "metadata": {},
   "source": [
    "# The roster method\n",
    "\n",
    "## Definition\n",
    "\n",
    "Method of describing sets, where we describe a set by listing the names of its elements, seperated by commas, with the full list enclosed in braces.\n",
    "\n",
    "$$\n",
    "A = \\{1, 2, 3, 4 \\}\n",
    "$$\n",
    "\n",
    "$$\n",
    "B = \\{\\text{Massachusetts}, \\text{Michigan}, \\text{California}\\}\n",
    "$$\n",
    "\n",
    "The order in which elements are listed is irrelevant. An object should be listed only once in the roster, since listing it more than once does not change the set.\n",
    "\n",
    "$$\n",
    "\\{1, 1, 2\\} = \\{1, 2\\} \\;\\;\\;\\; 5 \\notin A \\;\\;\\;\\; Ohio \\notin B\n",
    "$$\n",
    "\n",
    "The roster method has the obvious advantage of avoiding the problem of deciding well definedness. Whenever it's used (provided the objects named as elements have meaning), there can be no more doubt as to which objects are, and are not, in the set. On the other hand, if the set to be described is large, the roster method can be impractical or impossible to employ.\n",
    "\n",
    "## Reference\n",
    "\n",
    "1. Ronald P. Morash, *Bridge to abstract math. Mathematical proof and structures*"
   ]
  },
  {
   "cell_type": "code",
   "execution_count": null,
   "id": "77d01614-16e9-4320-b6bf-057e720c39b5",
   "metadata": {},
   "outputs": [],
   "source": []
  }
 ],
 "metadata": {
  "kernelspec": {
   "display_name": "Python 3 (ipykernel)",
   "language": "python",
   "name": "python3"
  },
  "language_info": {
   "codemirror_mode": {
    "name": "ipython",
    "version": 3
   },
   "file_extension": ".py",
   "mimetype": "text/x-python",
   "name": "python",
   "nbconvert_exporter": "python",
   "pygments_lexer": "ipython3",
   "version": "3.13.7"
  }
 },
 "nbformat": 4,
 "nbformat_minor": 5
}
