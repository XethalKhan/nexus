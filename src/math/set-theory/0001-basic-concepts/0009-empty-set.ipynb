{
 "cells": [
  {
   "cell_type": "markdown",
   "id": "dc981130-57cc-40c2-83fc-a9d43cf38d8d",
   "metadata": {},
   "source": [
    "# Empty set\n",
    "\n",
    "## Informal definition using interval\n",
    "\n",
    "If $a = b$ in **interval** $I = \\{ x \\in \\mathbb{R} | a \\lt x \\lt b \\}$ no real number satisfies the criterion for membership in the open interval $(a, a)$, since no real number is simultaneously greater than and less than $a$. If this special case is to be regarded as set, much less an interval, we must posit the existance of a set with no elements. This we do under a title of **empty set** or **null set**, denoted either $\\emptyset$ or $\\{ \\}$. **Empty set** is at the opposite end of the spectrum from a **universal set**. Another justification for the existance of an empty set, is the desirability that the intersection of any two sets be a set.\n",
    "\n",
    "## Reference\n",
    "\n",
    "1. Ronald P. Morash, *Bridge to abstract math. Mathematical proof and structures* (page 9)"
   ]
  }
 ],
 "metadata": {
  "kernelspec": {
   "display_name": "Python 3 (ipykernel)",
   "language": "python",
   "name": "python3"
  },
  "language_info": {
   "codemirror_mode": {
    "name": "ipython",
    "version": 3
   },
   "file_extension": ".py",
   "mimetype": "text/x-python",
   "name": "python",
   "nbconvert_exporter": "python",
   "pygments_lexer": "ipython3",
   "version": "3.13.7"
  }
 },
 "nbformat": 4,
 "nbformat_minor": 5
}
