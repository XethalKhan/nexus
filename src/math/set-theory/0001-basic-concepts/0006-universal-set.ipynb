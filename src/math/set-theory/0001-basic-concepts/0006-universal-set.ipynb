{
 "cells": [
  {
   "cell_type": "markdown",
   "id": "9ba63e83-4749-43b5-a37d-d758c346adca",
   "metadata": {},
   "source": [
    "# Universal set\n",
    "\n",
    "## Informal definition\n",
    "\n",
    "A **universal set** is the set of all objects under discussion in a particular setting. Idea of a universal set in an absolute sense, that is,  a set containing all objects, leads to serious logical difficulties and so is not used in set theory, but the concept, when applied in a more limited sense, has considerable value. A **universal set** $U$ will often be specified at the start of a problem involving sets, whereas in other situations a universal set is more or less clearly, but implicitly, understood as background to a problem. The role then of a **universal set** is to put some bounds on the nature of the objects that can be considered for membership in the sets involved in a given situation.\n",
    "\n",
    "There are certain sets of numbers that serve as a unversal set so frequently that we assign them (widely used and recognized) names and symbols:\n",
    "\n",
    "$$\n",
    "\\mathbb{N}\n",
    "\\;\\;\\;\n",
    "\\text{the set of all positive integers (natural numbers)}\n",
    "\\;\\;\\;\n",
    "\\mathbb{N} = \\{1, 2, 3\\}\n",
    "$$\n",
    "\n",
    "$$\n",
    "\\mathbb{Z}\n",
    "\\;\\;\\;\n",
    "\\text{the set of all integers (signed whole numbers)}\n",
    "\\;\\;\\;\n",
    "\\mathbb{Z} = \\{0, \\pm 1, \\pm 2, \\pm 3 \\}\n",
    "$$\n",
    "\n",
    "$$\n",
    "\\mathbb{Q}\n",
    "\\;\\;\\;\n",
    "\\text{the set of all rational numbers (quotitients of integers)}\n",
    "\\;\\;\\;\n",
    "\\mathbb{Q} = \\{ \\frac{p}{q} | p \\in \\mathbb{Z}, q \\in \\mathbb{N} \\}\n",
    "$$\n",
    "\n",
    "$$\n",
    "\\mathbb{R}\n",
    "\\;\\;\\;\n",
    "\\text{the set of all real numbers (the reals)}\n",
    "$$\n",
    "\n",
    "$$\n",
    "\\mathbb{C}\n",
    "\\;\\;\\;\n",
    "\\text{the set of all complex numbers}\n",
    "$$\n",
    "\n",
    "It is of vital importance, also, to realize that the universal set specified in the description of a set is as important as the rest of the definition.\n",
    "\n",
    "$$\n",
    "F = \\{x | x \\in \\mathbb{N} \\land x \\lt 10^8 \\}\n",
    "$$\n",
    "\n",
    "$$\n",
    "I = \\{x | x \\in \\mathbb{R} \\land 0 \\leq x \\leq 1 \\}\n",
    "$$\n",
    "\n",
    "## Reference\n",
    "\n",
    "1. Ronald P. Morash, *Bridge to abstract math. Mathematical proof and structures* (page 7)"
   ]
  },
  {
   "cell_type": "code",
   "execution_count": null,
   "id": "89eb96c3-0f86-4526-ba8f-74fd869bdccc",
   "metadata": {},
   "outputs": [],
   "source": []
  }
 ],
 "metadata": {
  "kernelspec": {
   "display_name": "Python 3 (ipykernel)",
   "language": "python",
   "name": "python3"
  },
  "language_info": {
   "codemirror_mode": {
    "name": "ipython",
    "version": 3
   },
   "file_extension": ".py",
   "mimetype": "text/x-python",
   "name": "python",
   "nbconvert_exporter": "python",
   "pygments_lexer": "ipython3",
   "version": "3.13.7"
  }
 },
 "nbformat": 4,
 "nbformat_minor": 5
}
