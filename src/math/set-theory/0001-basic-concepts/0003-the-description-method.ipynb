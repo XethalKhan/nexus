{
 "cells": [
  {
   "cell_type": "markdown",
   "id": "8dabc7fb-9998-426f-82c1-218f36ecf46b",
   "metadata": {},
   "source": [
    "# The description method\n",
    "\n",
    "## Definition\n",
    "\n",
    "Method of describing sets. We describe a set in terms of one or more properties to be satisfied by objects in the set, and by those objects only.\n",
    "\n",
    "$$\n",
    "A = \\{x | \\text{x satisfies some property or properties}\\}\n",
    "$$\n",
    "\n",
    "$$\n",
    "C = \\{x | x \\in \\mathbb{N} \\land x \\lt 100\\}\n",
    "$$\n",
    "\n",
    "$$\n",
    "D = \\{x | \\text{x is the name of a state in USA beginning with M}\\}\n",
    "$$\n",
    "\n",
    "The set is understood to consist of all objects satisfying the preceding description, and only those objects.\n",
    "\n",
    "$$\n",
    "57 \\in C \\;\\;\\;\\; 126 \\notin C \\;\\;\\;\\; \\text{Maine} \\in D\n",
    "$$\n",
    "\n",
    "It is in connection with the description method that well-definedness comes into play. The rule or rules used in describing a set must be:\n",
    "\n",
    "1. meaningfull, that is, use words and/or symbols with an understood meaning\n",
    "2. specific and definitive, as opposed to vague and indefinite\n",
    "\n",
    "$$\n",
    "F = \\{x | x \\in \\mathbb{N} \\land x \\lt 10^8 \\} \\;\\;\\;\\;\\; I = \\{x | x \\in \\mathbb{R} \\land 0 \\leq x \\leq 1 \\}\n",
    "$$\n",
    "\n",
    "## Reference\n",
    "\n",
    "1. Ronald P. Morash, *Bridge to abstract math. Mathematical proof and structures*"
   ]
  },
  {
   "cell_type": "code",
   "execution_count": null,
   "id": "52609648-b755-448b-8dc8-95f9da4a66c1",
   "metadata": {},
   "outputs": [],
   "source": []
  }
 ],
 "metadata": {
  "kernelspec": {
   "display_name": "Python 3 (ipykernel)",
   "language": "python",
   "name": "python3"
  },
  "language_info": {
   "codemirror_mode": {
    "name": "ipython",
    "version": 3
   },
   "file_extension": ".py",
   "mimetype": "text/x-python",
   "name": "python",
   "nbconvert_exporter": "python",
   "pygments_lexer": "ipython3",
   "version": "3.13.7"
  }
 },
 "nbformat": 4,
 "nbformat_minor": 5
}
