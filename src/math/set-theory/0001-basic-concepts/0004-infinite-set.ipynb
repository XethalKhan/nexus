{
 "cells": [
  {
   "cell_type": "markdown",
   "id": "4ae66c54-13ab-437a-9578-3a64b38ba22d",
   "metadata": {},
   "source": [
    "# Infinite set\n",
    "\n",
    "## Definition\n",
    "\n",
    "Informal definition: Infinite set is the set that can't even theoretically, be described by **the roster method**. The elements of an infinite set are impossible to exhaust and so cannot be listed.\n",
    "\n",
    "$$\n",
    "I = \\{x | x \\in \\mathbb{R} \\land 0 \\leq x \\leq 1 \\}\n",
    "$$\n",
    "\n",
    "## Reference\n",
    "\n",
    "1. Ronald P. Morash, *Bridge to abstract math. Mathematical proof and structures* (page 6)"
   ]
  },
  {
   "cell_type": "code",
   "execution_count": null,
   "id": "f607b494-7356-4a6c-9fd7-82dbd1f83ad9",
   "metadata": {},
   "outputs": [],
   "source": []
  }
 ],
 "metadata": {
  "kernelspec": {
   "display_name": "Python 3 (ipykernel)",
   "language": "python",
   "name": "python3"
  },
  "language_info": {
   "codemirror_mode": {
    "name": "ipython",
    "version": 3
   },
   "file_extension": ".py",
   "mimetype": "text/x-python",
   "name": "python",
   "nbconvert_exporter": "python",
   "pygments_lexer": "ipython3",
   "version": "3.13.7"
  }
 },
 "nbformat": 4,
 "nbformat_minor": 5
}
