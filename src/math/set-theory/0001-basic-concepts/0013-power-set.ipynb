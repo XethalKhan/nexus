{
 "cells": [
  {
   "cell_type": "markdown",
   "id": "cf731c6e-1253-4b0c-bf99-599c87a667bd",
   "metadata": {},
   "source": [
    "# Power set\n",
    "\n",
    "## Definition\n",
    "\n",
    "Let $A$ be a set. We denote $\\mathcal{P}(A)$, **the power set of A**, the set of all subsets of $A$.\n",
    "\n",
    "$$\n",
    "A = \\{ 1, 2, 3, 4 \\}\n",
    "$$\n",
    "\n",
    "$$\n",
    "\\mathcal{P}(A) = \\{\n",
    "\\{1 \\},\n",
    "\\{2 \\},\n",
    "\\{3 \\},\n",
    "\\{4 \\},\n",
    "\\{1, 2 \\},\n",
    "\\{1, 3 \\},\n",
    "\\{1, 4 \\},\n",
    "\\{2, 1 \\},\n",
    "\\{2, 3 \\},\n",
    "\\{2, 4 \\},\n",
    "\\{3, 1 \\},\n",
    "\\{3, 2 \\},\n",
    "\\{3, 4 \\},\n",
    "\\{4, 1 \\},\n",
    "\\{4, 2 \\},\n",
    "\\{4, 3 \\},\n",
    "\\{1, 2, 3 \\},\n",
    "\\{1, 2, 4 \\},\n",
    "\\{1, 3, 4 \\},\n",
    "\\{2, 3, 4 \\},\n",
    "\\{1, 2, 3, 4 \\}\n",
    "\\}\n",
    "$$\n",
    "\n",
    "$$\n",
    "\\emptyset \\in \\mathcal{P}(A)\\text{ ?}\n",
    "$$"
   ]
  }
 ],
 "metadata": {
  "kernelspec": {
   "display_name": "Python 3 (ipykernel)",
   "language": "python",
   "name": "python3"
  },
  "language_info": {
   "codemirror_mode": {
    "name": "ipython",
    "version": 3
   },
   "file_extension": ".py",
   "mimetype": "text/x-python",
   "name": "python",
   "nbconvert_exporter": "python",
   "pygments_lexer": "ipython3",
   "version": "3.13.7"
  }
 },
 "nbformat": 4,
 "nbformat_minor": 5
}
