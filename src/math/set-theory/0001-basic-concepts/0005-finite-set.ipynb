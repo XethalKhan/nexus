{
 "cells": [
  {
   "cell_type": "markdown",
   "id": "f9a9dc7d-52d5-440d-9007-fd1dcf46a529",
   "metadata": {},
   "source": [
    "# Finite set\n",
    "\n",
    "## Informal definition\n",
    "\n",
    "Finite set is the one that is not infinite\n",
    "\n",
    "$$\n",
    "F = \\{x | x \\in \\mathbb{N} \\land x \\lt 10^8 \\}\n",
    "$$\n",
    "\n",
    "## Reference\n",
    "\n",
    "1. Ronald P. Morash, *Bridge to abstract math. Mathematical proof and structures* (page 6)"
   ]
  },
  {
   "cell_type": "code",
   "execution_count": null,
   "id": "665849ec-42ad-4e76-96b7-d524501192ef",
   "metadata": {},
   "outputs": [],
   "source": []
  }
 ],
 "metadata": {
  "kernelspec": {
   "display_name": "Python 3 (ipykernel)",
   "language": "python",
   "name": "python3"
  },
  "language_info": {
   "codemirror_mode": {
    "name": "ipython",
    "version": 3
   },
   "file_extension": ".py",
   "mimetype": "text/x-python",
   "name": "python",
   "nbconvert_exporter": "python",
   "pygments_lexer": "ipython3",
   "version": "3.13.7"
  }
 },
 "nbformat": 4,
 "nbformat_minor": 5
}
