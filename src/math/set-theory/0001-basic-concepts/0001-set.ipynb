{
 "cells": [
  {
   "cell_type": "markdown",
   "id": "1ad19ab5-6a7d-4c1f-8cb8-44c12e32312d",
   "metadata": {},
   "source": [
    "# Set\n",
    "\n",
    "## Definition\n",
    "\n",
    "A **set** may be thought of as a **well-defined** collection of objects. The objects in the set are called **elements** of the set. **Elements** of a set may be any kind of objects at all (numbers, names, . . .) even other sets may be some or all elements of set.\n",
    "\n",
    "Advantage of having informal definition of term set is that, through it, we can introduce other terminology related to sets. The term **element** is one example, and **well-defined** is another.\n",
    "\n",
    "$$A, B, X, Y = \\text{names of sets}$$\n",
    "\n",
    "$$a, b, x, y = \\text{possible elements of sets}$$\n",
    "\n",
    "$$a \\in A = \\text{element } a \\text{ belongs to set } A$$\n",
    "\n",
    "$$a \\notin A = \\text{element } a \\text{ does not belong to set } A$$\n",
    "\n",
    "Term **well-defined** relates to the primary requirement for any description (of set): Given an object, we must be able to determine whether or not the object lies in described set.\n",
    "\n",
    "## Reference\n",
    "\n",
    "1. Ronald P. Morash, *Bridge to abstract math. Mathematical proof and structures*"
   ]
  }
 ],
 "metadata": {
  "kernelspec": {
   "display_name": "Python 3 (ipykernel)",
   "language": "python",
   "name": "python3"
  },
  "language_info": {
   "codemirror_mode": {
    "name": "ipython",
    "version": 3
   },
   "file_extension": ".py",
   "mimetype": "text/x-python",
   "name": "python",
   "nbconvert_exporter": "python",
   "pygments_lexer": "ipython3",
   "version": "3.13.7"
  }
 },
 "nbformat": 4,
 "nbformat_minor": 5
}
