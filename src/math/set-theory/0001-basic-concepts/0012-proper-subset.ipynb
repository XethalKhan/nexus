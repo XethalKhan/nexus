{
 "cells": [
  {
   "cell_type": "markdown",
   "id": "642d3066-7e03-484f-8795-f36e9bdf98ae",
   "metadata": {},
   "source": [
    "# Proper subset\n",
    "\n",
    "## Informal definition\n",
    "\n",
    "When we are told that $A \\subseteq B$, the possibility that $A$ and $B$ are equal is left open. To exclude that possibility, we use the notation and terminology of **proper subset**.\n",
    "\n",
    "Let $A$ and $B$ be sets. We say that $A$ is a proper subset of $B$, denoted $A \\subset B$, if and only if $A \\subseteq B \\text{ but } A \\neq B$. We write $A \\not\\subset B$ to symbolize the statement that $A$ is not a proper subset of $B$ (which could mean that either $A \\nsubseteq B$ or $A = B$).\n",
    "\n",
    "## Reference\n",
    "\n",
    "1. Ronald P. Morash, *Bridge to abstract math. Mathematical proof and structures* (page 12)"
   ]
  }
 ],
 "metadata": {
  "kernelspec": {
   "display_name": "Python 3 (ipykernel)",
   "language": "python",
   "name": "python3"
  },
  "language_info": {
   "codemirror_mode": {
    "name": "ipython",
    "version": 3
   },
   "file_extension": ".py",
   "mimetype": "text/x-python",
   "name": "python",
   "nbconvert_exporter": "python",
   "pygments_lexer": "ipython3",
   "version": "3.13.7"
  }
 },
 "nbformat": 4,
 "nbformat_minor": 5
}
