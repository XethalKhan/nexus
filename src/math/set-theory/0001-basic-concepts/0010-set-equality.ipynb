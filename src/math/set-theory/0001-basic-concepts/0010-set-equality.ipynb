{
 "cells": [
  {
   "cell_type": "markdown",
   "id": "085915ef-d1b9-43a7-b03f-64a2c08fd1d0",
   "metadata": {},
   "source": [
    "# Set equality\n",
    "\n",
    "## Informal definition\n",
    "\n",
    "Let $A$ and $B$ be sets. We will regard the statement **A equals B**, denoted $A = B$, to mean that $A$ and $B$ have precisely the same elements.\n",
    "\n",
    "$$\n",
    "A = \\{x \\in \\mathbb{N} | 3 \\lt x \\lt 9 \\}\n",
    "\\;\\;\\;\n",
    "B = \\{ 4, 5, 6, 7, 8 \\}\n",
    "\\;\\;\\;\n",
    "A = B\n",
    "$$\n",
    "\n",
    "Our informal description of set equality highlights the basic fact that a set is completely determined by its elements. Sets that are indeed equal often appear, or are presented in a form, quite different from each other, with the burden of proof of equality on the reader.\n",
    "\n",
    "## Formal definition (equivalence relation)\n",
    "\n",
    "Sets $A$ and $B$ are equal if and only if every element of $A$ is also an element of $B$ and every element of $B$ is also an element of $A$.\n",
    "\n",
    "Every set equals itself $A = A$ and $B = B$ (reflexive property)  \n",
    "Given sets $A$ and $B$, if $A = B$ then $B = A$ (symmetric property)  \n",
    "Given sets $A, B \\text{ and } C$, if $A = B$ and $B = C$, then $A = C$ (transitive property)  \n",
    "\n",
    "## Formal definition (proposition logic)\n",
    "\n",
    "We say that $A$ equals $B$ (denoted $A = B$) if and only if the statement $(\\forall x)((x \\in A) \\iff (x \\in B))$ is true.\n",
    "\n",
    "## Reference\n",
    "\n",
    "1. Ronald P. Morash, *Bridge to abstract math. Mathematical proof and structures* (page 10, 116)"
   ]
  }
 ],
 "metadata": {
  "kernelspec": {
   "display_name": "Python 3 (ipykernel)",
   "language": "python",
   "name": "python3"
  },
  "language_info": {
   "codemirror_mode": {
    "name": "ipython",
    "version": 3
   },
   "file_extension": ".py",
   "mimetype": "text/x-python",
   "name": "python",
   "nbconvert_exporter": "python",
   "pygments_lexer": "ipython3",
   "version": "3.13.7"
  }
 },
 "nbformat": 4,
 "nbformat_minor": 5
}
