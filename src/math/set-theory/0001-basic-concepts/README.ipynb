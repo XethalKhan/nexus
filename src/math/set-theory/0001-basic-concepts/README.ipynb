{
 "cells": [
  {
   "cell_type": "markdown",
   "id": "cf215495-a2aa-44d8-a6a6-238d55376919",
   "metadata": {},
   "source": [
    "# Basic concepts of set theory\n",
    "\n",
    "## 1. Set\n",
    "\n",
    "[Read more](./0001-set.ipynb)\n",
    "\n",
    "## 2. The roster method\n",
    "\n",
    "[Read more](./0002-the-roster-method.ipynb)\n",
    "\n",
    "## 3. The description method\n",
    "\n",
    "[Read more](./0003-the-description-method.ipynb)\n",
    "\n",
    "## 4. Infinite set\n",
    "\n",
    "[Read more](./0004-infinite-set.ipynb)\n",
    "\n",
    "## 5. Finite set\n",
    "\n",
    "[Read more](./0005-finite-set.ipynb)\n",
    "\n",
    "## 6. Universal set\n",
    "\n",
    "[Read more](./0006-universal-set.ipynb)\n",
    "\n",
    "## 7. Interval\n",
    "\n",
    "[Read more](./0007-interval.ipynb)\n",
    "\n",
    "## 8. Singleton\n",
    "\n",
    "[Read more](./0008-singleton.ipynb)\n",
    "\n",
    "## 9. Empty set\n",
    "\n",
    "[Read more](./0009-empty-set.md)\n",
    "\n",
    "## 10. Set equality\n",
    "\n",
    "[Read more](./0010-set-equality.md)\n",
    "\n",
    "## 11. Subset\n",
    "\n",
    "[Read more](./0011-subset.md)\n",
    "\n",
    "## 12. Proper subset\n",
    "\n",
    "[Read more](./0012-proper-subset.md)\n",
    "\n",
    "## 13. Power set\n",
    "\n",
    "[Read more](./0013-power-set.md)"
   ]
  },
  {
   "cell_type": "code",
   "execution_count": null,
   "id": "423f3bac-617e-47b0-978f-9003c377856e",
   "metadata": {},
   "outputs": [],
   "source": []
  }
 ],
 "metadata": {
  "kernelspec": {
   "display_name": "Python 3 (ipykernel)",
   "language": "python",
   "name": "python3"
  },
  "language_info": {
   "codemirror_mode": {
    "name": "ipython",
    "version": 3
   },
   "file_extension": ".py",
   "mimetype": "text/x-python",
   "name": "python",
   "nbconvert_exporter": "python",
   "pygments_lexer": "ipython3",
   "version": "3.13.7"
  }
 },
 "nbformat": 4,
 "nbformat_minor": 5
}
