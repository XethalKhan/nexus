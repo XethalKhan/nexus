{
 "cells": [
  {
   "cell_type": "markdown",
   "id": "b93a465e-3f40-40c6-a48e-9bee285f7082",
   "metadata": {},
   "source": [
    "# Singleton\n",
    "\n",
    "## Informal definition\n",
    "\n",
    "If we let $a = b$ in **interval** $I = \\{ x \\in \\mathbb{R} | a \\leq x \\leq b \\}$, we see that $[a, a] = (a)$, a **singleton** or **single-element set**, is an interval.\n",
    "\n",
    "## Reference\n",
    "\n",
    "1. Ronald P. Morash, *Bridge to abstract math. Mathematical proof and structures* (page 9)"
   ]
  },
  {
   "cell_type": "code",
   "execution_count": null,
   "id": "2cdc38ef-038e-45d1-84a5-d2cbd7b891e0",
   "metadata": {},
   "outputs": [],
   "source": []
  }
 ],
 "metadata": {
  "kernelspec": {
   "display_name": "Python 3 (ipykernel)",
   "language": "python",
   "name": "python3"
  },
  "language_info": {
   "codemirror_mode": {
    "name": "ipython",
    "version": 3
   },
   "file_extension": ".py",
   "mimetype": "text/x-python",
   "name": "python",
   "nbconvert_exporter": "python",
   "pygments_lexer": "ipython3",
   "version": "3.13.7"
  }
 },
 "nbformat": 4,
 "nbformat_minor": 5
}
