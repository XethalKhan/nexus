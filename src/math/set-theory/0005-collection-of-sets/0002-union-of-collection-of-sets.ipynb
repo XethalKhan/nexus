{
 "cells": [
  {
   "cell_type": "markdown",
   "id": "eac5b2bd-b0b8-4b4f-b636-b5483fd4e9f3",
   "metadata": {},
   "source": [
    "# Union of the collection of sets\n",
    "\n",
    "Let $\\mathcal{A} = \\{ A_i | i \\in \\mathbb{N} \\}$ be a **collection of sets** indexed by $\\mathbb{N}$. We define **the union of the collection $\\mathcal{A}$**, denoted $\\displaystyle{\\bigcup_{i = 1}^{\\infty} A_i}$ (also denoted $\\displaystyle{\\bigcup_{i \\in \\mathbb{N}} A_i}$ and $\\displaystyle{\\bigcup \\{A_i | A_i \\in \\mathcal{A} \\}}$) to be the set\n",
    "\n",
    "$$\n",
    "\\{ x | x \\in A_i, i \\in \\mathbb{N} \\} = \\{ x | \\exists i \\in \\mathbb{N} \\text{ such that } x \\in A_i \\}\n",
    "$$\n",
    "\n",
    "If $\\mathcal{A}$ is a collection of sets $A_1, A_2, A_3, \\dots$, with $U$ as **universal set**, then $\\displaystyle{\\bigcup_{i = 1}^{\\infty} A_i}$ is a set and it has $U$ as universal set. It consists of all elements in any of the sets $A_i$.\n",
    "\n",
    "## Reference\n",
    "\n",
    "1. Ronald P. Morash, *Bridge to abstract math. Mathematical proof and structures* (page 125)"
   ]
  }
 ],
 "metadata": {
  "kernelspec": {
   "display_name": "Python 3 (ipykernel)",
   "language": "python",
   "name": "python3"
  },
  "language_info": {
   "codemirror_mode": {
    "name": "ipython",
    "version": 3
   },
   "file_extension": ".py",
   "mimetype": "text/x-python",
   "name": "python",
   "nbconvert_exporter": "python",
   "pygments_lexer": "ipython3",
   "version": "3.13.7"
  }
 },
 "nbformat": 4,
 "nbformat_minor": 5
}
