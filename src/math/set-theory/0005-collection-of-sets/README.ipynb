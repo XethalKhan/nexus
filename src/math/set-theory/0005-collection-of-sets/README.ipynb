{
 "cells": [
  {
   "cell_type": "markdown",
   "id": "9eb594b9-21c9-41b0-87ff-e834cbbc8948",
   "metadata": {},
   "source": [
    "# Collection of sets\n",
    "\n",
    "## 1. Collection (family) of sets\n",
    "\n",
    "[Read more](./0001-collection-of-sets.ipynb)\n",
    "\n",
    "## 2. Union of the collection of sets\n",
    "\n",
    "[Read more](./0002-union-of-collection-of-sets.ipynb)\n",
    "\n",
    "## 3. Intersection of the collection of sets\n",
    "\n",
    "[Read more](./0003-intersection-of-collection-of-sets.ipynb)"
   ]
  }
 ],
 "metadata": {
  "kernelspec": {
   "display_name": "Python 3 (ipykernel)",
   "language": "python",
   "name": "python3"
  },
  "language_info": {
   "codemirror_mode": {
    "name": "ipython",
    "version": 3
   },
   "file_extension": ".py",
   "mimetype": "text/x-python",
   "name": "python",
   "nbconvert_exporter": "python",
   "pygments_lexer": "ipython3",
   "version": "3.13.7"
  }
 },
 "nbformat": 4,
 "nbformat_minor": 5
}
