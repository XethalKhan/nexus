{
 "cells": [
  {
   "cell_type": "markdown",
   "id": "86d2af9d-cdd5-4795-8ac1-2c0d9fb3c206",
   "metadata": {},
   "source": [
    "# Intersection of the collection of sets\n",
    "\n",
    "Let $\\mathcal{A} = \\{A_i | i \\in \\mathbb{N} \\}$ be a **collection of sets** indexed by $\\mathbb{N}$. We define **the intersection of the collection $\\mathcal{A}$**, denoted $\\displaystyle{\\bigcap_{i = 1}^{\\infty} A_i}$ (also denoted $\\displaystyle{\\bigcap_{i \\in \\mathbb{N}} A_i}$ and $\\displaystyle{\\bigcap \\{A_i | A_i \\in \\mathcal{A} \\}}$) to be the set\n",
    "\n",
    "$$\n",
    "\\{ x | x \\in A_i, \\text{ for every } i \\in \\mathbb{N} \\} = \\{ x | x \\in A_i, \\forall i \\in \\mathbb{N} \\}\n",
    "$$\n",
    "\n",
    "If $\\mathcal{A}$ is a collection of sets $A_1, A_2, A_3, \\dots$, with $U$ as **universal set**, then $\\displaystyle{\\bigcap_{i = 1}^{\\infty} A_i}$ is a set and it has $U$ as universal set. It consists only of those objects common to all the sets $A_i$.\n",
    "\n",
    "## Reference\n",
    "\n",
    "1. Ronald P. Morash, *Bridge to abstract math. Mathematical proof and structures* (page 125)"
   ]
  }
 ],
 "metadata": {
  "kernelspec": {
   "display_name": "Python 3 (ipykernel)",
   "language": "python",
   "name": "python3"
  },
  "language_info": {
   "codemirror_mode": {
    "name": "ipython",
    "version": 3
   },
   "file_extension": ".py",
   "mimetype": "text/x-python",
   "name": "python",
   "nbconvert_exporter": "python",
   "pygments_lexer": "ipython3",
   "version": "3.13.7"
  }
 },
 "nbformat": 4,
 "nbformat_minor": 5
}
