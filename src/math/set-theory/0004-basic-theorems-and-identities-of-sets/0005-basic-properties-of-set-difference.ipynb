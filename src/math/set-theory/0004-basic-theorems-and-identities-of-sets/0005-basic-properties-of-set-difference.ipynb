{
 "cells": [
  {
   "cell_type": "markdown",
   "id": "ceba6fa0-f4d8-473e-a3bc-434cb6ed0f6d",
   "metadata": {},
   "source": [
    "# Basic properties of set difference\n",
    "\n",
    "For all sets $X$, $Y$ and $Z$ in any universal set $U$\n",
    "\n",
    "1. $X - Y = X \\cap Y'$\n",
    "2. $X - \\emptyset = X$\n",
    "3. $\\emptyset - Y = \\emptyset$\n",
    "4. $X' - Y' = Y - X$\n",
    "5. $(X - Y) - Z = (X - Z) - (Y - Z)$\n",
    "\n",
    "## Reference\n",
    "\n",
    "1. Ronald P. Morash, *Bridge to abstract math. Mathematical proof and structures* (page 41)"
   ]
  }
 ],
 "metadata": {
  "kernelspec": {
   "display_name": "Python 3 (ipykernel)",
   "language": "python",
   "name": "python3"
  },
  "language_info": {
   "codemirror_mode": {
    "name": "ipython",
    "version": 3
   },
   "file_extension": ".py",
   "mimetype": "text/x-python",
   "name": "python",
   "nbconvert_exporter": "python",
   "pygments_lexer": "ipython3",
   "version": "3.13.7"
  }
 },
 "nbformat": 4,
 "nbformat_minor": 5
}
