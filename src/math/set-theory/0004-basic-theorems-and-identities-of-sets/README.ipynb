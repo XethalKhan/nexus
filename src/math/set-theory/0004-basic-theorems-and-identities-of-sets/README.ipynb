{
 "cells": [
  {
   "cell_type": "markdown",
   "id": "d801e655-498f-4ba8-a682-b8d1141df399",
   "metadata": {},
   "source": [
    "# Basic theorems of set theory\n",
    "\n",
    "Basic theories and identities. Use predicate calculus to prove.\n",
    "\n",
    "## 1. Basic laws of set equality and subsets\n",
    "\n",
    "[Read more](./0001-basic-laws-of-set-equality-and-subsets.ipynb)\n",
    "\n",
    "## 2. Basic properties of union and intersection\n",
    "\n",
    "[Read more](./0002-basic-properties-of-union-and-intersection.ipynb)\n",
    "\n",
    "## 3. Basic properties of set complement\n",
    "\n",
    "[Read more](./0003-basic-properties-of-set-complement.ipynb)\n",
    "\n",
    "## 4. Distributive laws in set theory\n",
    "\n",
    "[Read more](./0004-distributive-laws-in-set-theory.ipynb)\n",
    "\n",
    "## 5. Basic properties of set difference\n",
    "\n",
    "[Read more](./0005-basic-properties-of-set-difference.ipynb)\n",
    "\n",
    "## 6. De Morgan's law\n",
    "\n",
    "[Read more](./0006-de-morgans-law.ipynb)\n",
    "\n",
    "## 7. Advanced statements of set equality and subset relationship\n",
    "\n",
    "[Read more](./0007-advanced-statements-of-set-equality-and-subset-relationship.ipynb)"
   ]
  }
 ],
 "metadata": {
  "kernelspec": {
   "display_name": "Python 3 (ipykernel)",
   "language": "python",
   "name": "python3"
  },
  "language_info": {
   "codemirror_mode": {
    "name": "ipython",
    "version": 3
   },
   "file_extension": ".py",
   "mimetype": "text/x-python",
   "name": "python",
   "nbconvert_exporter": "python",
   "pygments_lexer": "ipython3",
   "version": "3.13.7"
  }
 },
 "nbformat": 4,
 "nbformat_minor": 5
}
