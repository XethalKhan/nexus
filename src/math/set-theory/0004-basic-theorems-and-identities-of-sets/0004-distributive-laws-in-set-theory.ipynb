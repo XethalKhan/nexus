{
 "cells": [
  {
   "cell_type": "markdown",
   "id": "083ac0b0-affd-42a0-a2da-7757d6d0ef37",
   "metadata": {},
   "source": [
    "# Distributive laws in set theory\n",
    "\n",
    "For all sets $X$, $Y$, and $Z$ in any universal set $U$\n",
    "\n",
    "1. $X \\cup (Y \\cap Z) = (X \\cup Y) \\cap (X \\cup Z)$ (union over intersection)\n",
    "2. $X \\cap (Y \\cup Z) = (X \\cap Y) \\cup (X \\cap Z)$ (intersection over union)\n",
    "3. $X \\cap (Y \\triangle Z) = (X \\cap Y) \\triangle (X \\cap Z)$ (intersection over symmetric difference)\n",
    "\n",
    "## Reference\n",
    "\n",
    "1. Ronald P. Morash, *Bridge to abstract math. Mathematical proof and structures* (page 41)"
   ]
  }
 ],
 "metadata": {
  "kernelspec": {
   "display_name": "Python 3 (ipykernel)",
   "language": "python",
   "name": "python3"
  },
  "language_info": {
   "codemirror_mode": {
    "name": "ipython",
    "version": 3
   },
   "file_extension": ".py",
   "mimetype": "text/x-python",
   "name": "python",
   "nbconvert_exporter": "python",
   "pygments_lexer": "ipython3",
   "version": "3.13.7"
  }
 },
 "nbformat": 4,
 "nbformat_minor": 5
}
