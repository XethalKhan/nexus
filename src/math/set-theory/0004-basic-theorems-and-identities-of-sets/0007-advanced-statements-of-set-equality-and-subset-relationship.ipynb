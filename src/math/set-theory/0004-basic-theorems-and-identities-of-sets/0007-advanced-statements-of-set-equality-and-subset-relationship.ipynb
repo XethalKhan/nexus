{
 "cells": [
  {
   "cell_type": "markdown",
   "id": "7d68a6b2-b845-4fe0-a599-c0a729490107",
   "metadata": {},
   "source": [
    "# Advanced statements of set equality and subset relationship\n",
    "\n",
    "For all sets $X$, $Y$ and $Z$ in any universal set $U$\n",
    "\n",
    "1. $X = (X \\cup Y) \\cap (X \\cup Y')$\n",
    "2. $X = (X \\cap Y) \\cup (X \\cap Y')$\n",
    "3. $(X \\cap Y) \\cup (X' \\cap Y) \\cup (X \\cap Y') \\cup (X' \\cap Y') = U$\n",
    "4. $X \\cup (Y - X) = X \\cup Y$\n",
    "5. $(X - Y)' = X' \\cup Y$\n",
    "6. $X \\triangle Y = Y \\triangle X$\n",
    "7. $X \\triangle (Y \\triangle Z) = (X \\triangle Y) \\triangle Z$\n",
    "8. $X \\triangle X = \\emptyset$\n",
    "9. $X \\triangle U = X'$\n",
    "10. $X \\triangle \\emptyset = X$\n",
    "11. $X \\triangle Y = (X \\cup Y) - (X \\cap Y)$\n",
    "12. $Y \\times \\emptyset = \\emptyset \\times Z = \\emptyset$\n",
    "13. $(X \\cup Y) \\times Z = (X \\times Z) \\cup (Y \\times Z)$\n",
    "14. $(X \\cap Y) \\times Z = (X \\times Z) \\cap (Y \\times Z)$\n",
    "15. $(X - Y) \\times Z = (X \\times Z) - (Y \\times Z)$\n",
    "\n",
    "## Reference\n",
    "\n",
    "1. Ronald P. Morash, *Bridge to abstract math. Mathematical proof and structures* (page 41)"
   ]
  }
 ],
 "metadata": {
  "kernelspec": {
   "display_name": "Python 3 (ipykernel)",
   "language": "python",
   "name": "python3"
  },
  "language_info": {
   "codemirror_mode": {
    "name": "ipython",
    "version": 3
   },
   "file_extension": ".py",
   "mimetype": "text/x-python",
   "name": "python",
   "nbconvert_exporter": "python",
   "pygments_lexer": "ipython3",
   "version": "3.13.7"
  }
 },
 "nbformat": 4,
 "nbformat_minor": 5
}
