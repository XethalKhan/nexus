{
 "cells": [
  {
   "cell_type": "markdown",
   "id": "c847ddc5-dc2f-46a2-8e26-aad8f2d216c1",
   "metadata": {},
   "source": [
    "# Basic laws of set equality and subsets\n",
    "\n",
    "For sets $X$ and $Y$ in any universal set $U$:\n",
    "\n",
    "1. $X = X$ (reflexive property of equality)\n",
    "2. $X \\subseteq X$ (reflexive property of subset relation)\n",
    "3. if $X = Y$, then $Y = X$ (symmetric property of equality)\n",
    "4. $X = Y$ if and only if $X \\subseteq Y$ and $Y \\subseteq X$ (includes antysimmetric property of subset)\n",
    "5. if $X = Y$ and $Y = Z$, then $X = Z$ (transitive property of equality)\n",
    "6. if $X \\subseteq Y$ and $Y \\subseteq Z$, then $X \\subseteq Z$ (transitive property of subset relation)\n",
    "7. $\\emptyset \\subseteq X$\n",
    "8. $X \\subseteq U$\n",
    "\n",
    "## Proof\n",
    "\n",
    "### 2. $X \\subseteq X$ (reflexive property of subset relation)\n",
    "\n",
    "Let $A$ be arbitrary set. By definition $A \\subseteq A$ has the meaning $(\\forall x)((x \\in A) \\rightarrow (x \\in A))$. But the predicate $(x \\in A) \\rightarrow (x \\in A)$ has the form $p \\rightarrow p$ for any substitution of a particular object for $x$ and so is true for any substitution, since $p \\rightarrow p$ is tautology. Hence the statement $(\\forall x)((x \\in A) \\rightarrow (x \\in A))$ is true, as is (consequently) the statement $A \\subseteq A$.\n",
    "\n",
    "### 4. $X = Y$ if and only if $X \\subseteq Y$ and $Y \\subseteq X$ (includes antysimmetric property of subset)\n",
    "\n",
    "The definition $A = B$ is $(\\forall x)((x \\in A) \\leftrightarrow (x \\in B))$, whereas $A \\subseteq B$ is defined by $(\\forall x)((x \\in A) \\rightarrow (x \\in B))$. Therefore, out theorem asserts that $(\\forall x)((x \\in A) \\leftrightarrow (x \\in B))$ is logically equivalent to the conjunction $(\\forall x)((x \\in A) \\rightarrow (x \\in B)) \\land (\\forall x)((x \\in B) \\rightarrow (x \\in A))$.\n",
    "\n",
    "Using the tautology $(p \\leftrightarrow q) \\leftrightarrow ((p \\rightarrow q) \\land (q \\rightarrow p))$ and the theorem $(\\forall x)(p(x) \\land q(x)) \\leftrightarrow (\\forall x)(p(x)) \\land (\\forall x)(q(x))$ of the predicate calculus, we observe\n",
    "\n",
    "$$\n",
    "(\\forall x)((x \\in A) \\leftrightarrow (x \\in B))\n",
    "$$\n",
    "\n",
    "$$\n",
    "\\leftrightarrow (\\forall x)(((x \\in A) \\rightarrow (x \\in B)) \\land ((x \\in B) \\rightarrow (x \\in A)))\n",
    "\\;\\;\\;\n",
    "\\text{ using }\n",
    "(p \\leftrightarrow q) \\leftrightarrow ((p \\rightarrow q) \\land (q \\rightarrow p))\n",
    "$$\n",
    "\n",
    "$$\n",
    "\\leftrightarrow (\\forall x)((x \\in A) \\rightarrow (x \\in B)) \\land (\\forall x)((x \\in B) \\rightarrow (x \\in A))\n",
    "\\;\\;\\;\n",
    "\\text{ using }\n",
    "(\\forall x)(p(x) \\land q(x)) \\leftrightarrow (\\forall x)(p(x)) \\land (\\forall x)(q(x))\n",
    "$$\n",
    "\n",
    "### 7. $\\emptyset \\subseteq X$\n",
    "\n",
    "Let $A$ be arbitrary set. By definition $\\emptyset \\subseteq A$ has the meaning $(\\forall x)((x \\in \\emptyset) \\rightarrow (x \\in A))$. But the predicate $x \\in \\emptyset$ is false for any object $x$, so that the conditional $(x \\in \\emptyset) \\rightarrow (x \\in A)$ is true for any $x$, regardless of the truth value of the predicate $x \\in A$. Hence the statement $(\\forall x)((x \\in \\emptyset) \\rightarrow (x \\in A))$ is true, so that $\\emptyset \\subseteq A$ is true, as claimed.\n",
    "\n",
    "## Reference\n",
    "\n",
    "1. Ronald P. Morash, *Bridge to abstract math. Mathematical proof and structures* (page 40, 116)"
   ]
  },
  {
   "cell_type": "code",
   "execution_count": null,
   "id": "c98618d9-9f20-4dfa-83ae-a2df9e7f093f",
   "metadata": {},
   "outputs": [],
   "source": []
  }
 ],
 "metadata": {
  "kernelspec": {
   "display_name": "Python 3 (ipykernel)",
   "language": "python",
   "name": "python3"
  },
  "language_info": {
   "codemirror_mode": {
    "name": "ipython",
    "version": 3
   },
   "file_extension": ".py",
   "mimetype": "text/x-python",
   "name": "python",
   "nbconvert_exporter": "python",
   "pygments_lexer": "ipython3",
   "version": "3.13.7"
  }
 },
 "nbformat": 4,
 "nbformat_minor": 5
}
