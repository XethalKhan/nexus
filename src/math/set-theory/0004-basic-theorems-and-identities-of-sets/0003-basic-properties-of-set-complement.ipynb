{
 "cells": [
  {
   "cell_type": "markdown",
   "id": "180a1095-306e-4485-8ceb-541aeefa7b17",
   "metadata": {},
   "source": [
    "# Basic properties of set complement\n",
    "\n",
    "For set $X$ in any universal set $U$\n",
    "\n",
    "1. $X'' = X$ (law of double complement)\n",
    "2. $X \\cup X' = U$\n",
    "3. $X \\cap X' = \\emptyset$\n",
    "4. $U' = \\emptyset$\n",
    "5. $\\emptyset' = U$\n",
    "\n",
    "## Reference\n",
    "\n",
    "1. Ronald P. Morash, *Bridge to abstract math. Mathematical proof and structures* (page 40)"
   ]
  }
 ],
 "metadata": {
  "kernelspec": {
   "display_name": "Python 3 (ipykernel)",
   "language": "python",
   "name": "python3"
  },
  "language_info": {
   "codemirror_mode": {
    "name": "ipython",
    "version": 3
   },
   "file_extension": ".py",
   "mimetype": "text/x-python",
   "name": "python",
   "nbconvert_exporter": "python",
   "pygments_lexer": "ipython3",
   "version": "3.13.7"
  }
 },
 "nbformat": 4,
 "nbformat_minor": 5
}
