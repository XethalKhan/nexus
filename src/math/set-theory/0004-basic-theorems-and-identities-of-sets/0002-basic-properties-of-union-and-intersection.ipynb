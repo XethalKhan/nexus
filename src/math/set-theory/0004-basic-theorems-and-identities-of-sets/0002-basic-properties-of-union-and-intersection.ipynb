{
 "cells": [
  {
   "cell_type": "markdown",
   "id": "1a2acad8-a8e7-4fab-b748-c54848e977da",
   "metadata": {},
   "source": [
    "# Basic properties of union and intersection\n",
    "\n",
    "For sets $X$, $Y$ and $Z$ in any universal set $U$\n",
    "\n",
    "1. $X \\cup X = X$ (idempotent law of union)\n",
    "2. $X \\cap X = X$ (idempotent law of intersection)\n",
    "3. $X \\cup \\emptyset = X$ (identity for union)\n",
    "4. $X \\cap U = X$ (identity for intersection)\n",
    "5. $X \\cap \\emptyset = \\emptyset$\n",
    "6. $X \\cup U = U$\n",
    "7. $X \\cup Y = Y \\cup X$ (commutative law for union)\n",
    "8. $X \\cap Y = Y \\cap X$ (commutative law for intersection)\n",
    "9. $X \\cup (Y \\cup Z) = (X \\cup Y) \\cup Z$ (associative law for union)\n",
    "10. $X \\cap (Y \\cap Z) = (X \\cap Y) \\cap Z$ (associative law for intersection)\n",
    "11. $X \\subseteq X \\cup Y$\n",
    "12. $X \\cap Y \\subseteq X$\n",
    "\n",
    "## Reference\n",
    "\n",
    "1. Ronald P. Morash, *Bridge to abstract math. Mathematical proof and structures* (page 40)"
   ]
  }
 ],
 "metadata": {
  "kernelspec": {
   "display_name": "Python 3 (ipykernel)",
   "language": "python",
   "name": "python3"
  },
  "language_info": {
   "codemirror_mode": {
    "name": "ipython",
    "version": 3
   },
   "file_extension": ".py",
   "mimetype": "text/x-python",
   "name": "python",
   "nbconvert_exporter": "python",
   "pygments_lexer": "ipython3",
   "version": "3.13.7"
  }
 },
 "nbformat": 4,
 "nbformat_minor": 5
}
