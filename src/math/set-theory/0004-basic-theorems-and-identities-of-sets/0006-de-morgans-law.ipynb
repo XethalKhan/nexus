{
 "cells": [
  {
   "cell_type": "markdown",
   "id": "068bcb05-9c77-436a-bc7f-de3b712d95aa",
   "metadata": {},
   "source": [
    "## De Morgan's law\n",
    "\n",
    "For all sets $X$, $Y$ and $Z$ in any universal set $U$\n",
    "\n",
    "1. $(X \\cap Y)' = X' \\cup Y'$\n",
    "2. $(X \\cup Y)' = X' \\cap Y'$\n",
    "3. $X - (Y \\cup Z) = (X - Y) \\cap (X - Z)$\n",
    "4. $X - (Y \\cap Z) = (X - Y) \\cup (X - Z)$\n",
    "\n",
    "## Reference\n",
    "\n",
    "1. Ronald P. Morash, *Bridge to abstract math. Mathematical proof and structures* (page 41)"
   ]
  }
 ],
 "metadata": {
  "kernelspec": {
   "display_name": "Python 3 (ipykernel)",
   "language": "python",
   "name": "python3"
  },
  "language_info": {
   "codemirror_mode": {
    "name": "ipython",
    "version": 3
   },
   "file_extension": ".py",
   "mimetype": "text/x-python",
   "name": "python",
   "nbconvert_exporter": "python",
   "pygments_lexer": "ipython3",
   "version": "3.13.7"
  }
 },
 "nbformat": 4,
 "nbformat_minor": 5
}
