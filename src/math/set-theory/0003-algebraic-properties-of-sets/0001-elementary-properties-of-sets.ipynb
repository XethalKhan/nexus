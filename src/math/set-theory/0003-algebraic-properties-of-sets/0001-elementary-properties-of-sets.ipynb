{
 "cells": [
  {
   "cell_type": "markdown",
   "id": "40c0a07b-00b5-4427-8c16-c5eb88da904e",
   "metadata": {},
   "source": [
    "# Elementary properties of sets\n",
    "\n",
    "$$\n",
    "X \\cup X' = U\n",
    "$$\n",
    "\n",
    "$$\n",
    "X \\cap X' = \\emptyset\n",
    "$$\n",
    "\n",
    "$$\n",
    "(X')' = X\n",
    "$$\n",
    "\n",
    "$$\n",
    "X \\cup X = X\n",
    "$$\n",
    "\n",
    "$$\n",
    "X \\cap X = X\n",
    "$$\n",
    "\n",
    "## Proof (TODO)\n",
    "\n",
    "## Reference\n",
    "\n",
    "1. Ronald P. Morash, *Bridge to abstract math. Mathematical proof and structures* (page 30)"
   ]
  }
 ],
 "metadata": {
  "kernelspec": {
   "display_name": "Python 3 (ipykernel)",
   "language": "python",
   "name": "python3"
  },
  "language_info": {
   "codemirror_mode": {
    "name": "ipython",
    "version": 3
   },
   "file_extension": ".py",
   "mimetype": "text/x-python",
   "name": "python",
   "nbconvert_exporter": "python",
   "pygments_lexer": "ipython3",
   "version": "3.13.7"
  }
 },
 "nbformat": 4,
 "nbformat_minor": 5
}
