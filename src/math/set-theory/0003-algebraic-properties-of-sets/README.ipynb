{
 "cells": [
  {
   "cell_type": "markdown",
   "id": "1d542049-cf89-4fe6-98b0-cc3b9c9aadb5",
   "metadata": {},
   "source": [
    "# Algebraic properties of sets\n",
    "\n",
    "Elementary identities of set algebra\n",
    "\n",
    "## 1. Elementary properties of sets\n",
    "\n",
    "[Read more](./0001-elementary-properties-of-sets.ipynb)\n",
    "\n",
    "## 2. Associativity of intersection and union of sets\n",
    "\n",
    "[Read more](./0002-associativity-of-intersection-and-union-of-sets.ipynb)\n",
    "\n",
    "## 3. Commutativity of intersection and union of sets\n",
    "\n",
    "[Read more](./0003-commutativity-of-intersection-and-union-of-sets.ipynb)\n",
    "\n",
    "## 4. Distributivity of intersection and union of sets\n",
    "\n",
    "[Read more](./0004-distributivity-of-intersection-and-union-of-sets.ipynb)"
   ]
  },
  {
   "cell_type": "code",
   "execution_count": null,
   "id": "8ea8124f-bc9d-43e2-ae07-db454e71bdea",
   "metadata": {},
   "outputs": [],
   "source": []
  }
 ],
 "metadata": {
  "kernelspec": {
   "display_name": "Python 3 (ipykernel)",
   "language": "python",
   "name": "python3"
  },
  "language_info": {
   "codemirror_mode": {
    "name": "ipython",
    "version": 3
   },
   "file_extension": ".py",
   "mimetype": "text/x-python",
   "name": "python",
   "nbconvert_exporter": "python",
   "pygments_lexer": "ipython3",
   "version": "3.13.7"
  }
 },
 "nbformat": 4,
 "nbformat_minor": 5
}
