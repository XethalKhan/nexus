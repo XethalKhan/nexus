{
 "cells": [
  {
   "cell_type": "markdown",
   "id": "ee8eaf47-b2e1-43f1-92cf-09ed56e71746",
   "metadata": {},
   "source": [
    "# Associativity of intersection and union of sets\n",
    "\n",
    "$$\n",
    "X \\cup (Y \\cup Z) = (X \\cup Y) \\cup Z\n",
    "$$\n",
    "\n",
    "$$\n",
    "X \\cap (Y \\cap Z) = (X \\cap Y) \\cap Z\n",
    "$$\n",
    "\n",
    "## Proof (TODO)\n",
    "\n",
    "The upshot of the associative laws for union and intersection is that the union of three or more sets consists of all the objects in any of the sets, grouped together within one set, while the intersection of three or more sets consists of the objects common to all the sets.\n",
    "\n",
    "## Reference\n",
    "\n",
    "1. Ronald P. Morash, *Bridge to abstract math. Mathematical proof and structures* (page 31 - 32)"
   ]
  },
  {
   "cell_type": "code",
   "execution_count": null,
   "id": "7bc9f88d-0dea-4af0-9223-9391894577a9",
   "metadata": {},
   "outputs": [],
   "source": []
  }
 ],
 "metadata": {
  "kernelspec": {
   "display_name": "Python 3 (ipykernel)",
   "language": "python",
   "name": "python3"
  },
  "language_info": {
   "codemirror_mode": {
    "name": "ipython",
    "version": 3
   },
   "file_extension": ".py",
   "mimetype": "text/x-python",
   "name": "python",
   "nbconvert_exporter": "python",
   "pygments_lexer": "ipython3",
   "version": "3.13.7"
  }
 },
 "nbformat": 4,
 "nbformat_minor": 5
}
