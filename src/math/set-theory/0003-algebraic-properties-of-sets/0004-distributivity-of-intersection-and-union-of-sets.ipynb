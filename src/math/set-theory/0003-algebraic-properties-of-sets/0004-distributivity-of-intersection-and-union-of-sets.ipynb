{
 "cells": [
  {
   "cell_type": "markdown",
   "id": "5fe700f2-603c-4cd3-a4a9-2a9607d1a11f",
   "metadata": {},
   "source": [
    "# Distributivity of intersection and union of sets\n",
    "\n",
    "$$\n",
    "X \\cap (Y \\cup Z) = (X \\cap Y) \\cup (X \\cap Z)\n",
    "$$\n",
    "\n",
    "$$\n",
    "X \\cup (Y \\cap Z) = (X \\cup Y) \\cap (X \\cup Z)\n",
    "$$\n",
    "\n",
    "## Proof (TODO)\n",
    "\n",
    "## Reference\n",
    "\n",
    "1. Ronald P. Morash, *Bridge to abstract math. Mathematical proof and structures* (page 32 - 34)"
   ]
  }
 ],
 "metadata": {
  "kernelspec": {
   "display_name": "Python 3 (ipykernel)",
   "language": "python",
   "name": "python3"
  },
  "language_info": {
   "codemirror_mode": {
    "name": "ipython",
    "version": 3
   },
   "file_extension": ".py",
   "mimetype": "text/x-python",
   "name": "python",
   "nbconvert_exporter": "python",
   "pygments_lexer": "ipython3",
   "version": "3.13.7"
  }
 },
 "nbformat": 4,
 "nbformat_minor": 5
}
