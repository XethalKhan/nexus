{
 "cells": [
  {
   "cell_type": "markdown",
   "id": "52e8b638-e355-4f48-ba51-7bad09da6bea",
   "metadata": {},
   "source": [
    "# Commutativity of intersection and union of sets\n",
    "\n",
    "$$\n",
    "X \\cap Y = Y \\cap X\n",
    "$$\n",
    "\n",
    "$$\n",
    "X \\cup Y = Y \\cup X\n",
    "$$\n",
    "\n",
    "Commutativity says that, in computing unions and intersections of two sets, the order in which the two sets are listed is irrelevant.\n",
    "\n",
    "## Reference\n",
    "\n",
    "1. Ronald P. Morash, *Bridge to abstract math. Mathematical proof and structures* (page 31 - 32)"
   ]
  }
 ],
 "metadata": {
  "kernelspec": {
   "display_name": "Python 3 (ipykernel)",
   "language": "python",
   "name": "python3"
  },
  "language_info": {
   "codemirror_mode": {
    "name": "ipython",
    "version": 3
   },
   "file_extension": ".py",
   "mimetype": "text/x-python",
   "name": "python",
   "nbconvert_exporter": "python",
   "pygments_lexer": "ipython3",
   "version": "3.13.7"
  }
 },
 "nbformat": 4,
 "nbformat_minor": 5
}
