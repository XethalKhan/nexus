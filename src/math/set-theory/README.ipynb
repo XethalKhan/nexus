{
 "cells": [
  {
   "cell_type": "markdown",
   "id": "c367a577-3558-4ec6-91ac-0f3f9baca8d7",
   "metadata": {},
   "source": [
    "# Set theory\n",
    "\n",
    "## 1. Basic concepts\n",
    "\n",
    "[Read more](./0001-basic-concepts/README.ipynb)\n",
    "\n",
    "## 2. Basic operations\n",
    "\n",
    "[Read more](./0002-basic-operations/README.md)\n",
    "\n",
    "## 3. Algebraic properties of sets\n",
    "\n",
    "[Read more](./0003-algebraic-properties-of-sets/README.md)\n",
    "\n",
    "## 4. Basic theorems and identities of sets\n",
    "\n",
    "[Read more](./0004-basic-theorems-and-identities-of-sets/README.md)\n",
    "\n",
    "## 5. Collection of sets\n",
    "\n",
    "[Read more](./0005-collection-of-sets/README.md)\n",
    "\n",
    "## 6. Relations\n",
    "\n",
    "[Read more](./0006-relations/README.md)\n",
    "\n",
    "## 7. Equivalence relation\n",
    "\n",
    "[Read more](./0007-equivalence-relation/README.md)\n",
    "\n",
    "## 8. Partial ordering\n",
    "\n",
    "[Read more](./0008-partial-ordering/README.md)\n",
    "\n",
    "## 9. Functions\n",
    "\n",
    "[Read more](./0009-functions/README.md)\n",
    "\n",
    "## 10. Cardinal number of sets\n",
    "\n",
    "[Read more](./0010-cardinal-number-of-sets/README.md)"
   ]
  },
  {
   "cell_type": "code",
   "execution_count": null,
   "id": "3dc823ce-2478-4306-8b01-9c9c2035b898",
   "metadata": {},
   "outputs": [],
   "source": []
  }
 ],
 "metadata": {
  "kernelspec": {
   "display_name": "Python 3 (ipykernel)",
   "language": "python",
   "name": "python3"
  },
  "language_info": {
   "codemirror_mode": {
    "name": "ipython",
    "version": 3
   },
   "file_extension": ".py",
   "mimetype": "text/x-python",
   "name": "python",
   "nbconvert_exporter": "python",
   "pygments_lexer": "ipython3",
   "version": "3.13.7"
  }
 },
 "nbformat": 4,
 "nbformat_minor": 5
}
