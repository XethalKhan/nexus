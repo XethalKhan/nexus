{
 "cells": [
  {
   "cell_type": "markdown",
   "id": "1c0e1fe2-2ec0-4487-8c4c-506114892fd6",
   "metadata": {},
   "source": [
    "### 1. Set theory\n",
    "\n",
    "[Read more](./set-theory/README.ipynb)\n",
    "\n",
    "### 2. Logic\n",
    "\n",
    "[Read more](./logic/README.md)\n",
    "\n",
    "### 5. Linear algebra\n",
    "\n",
    "[Read more](./linear-algebra/README.md)\n",
    "\n",
    "### 6. Trigonometry\n",
    "\n",
    "[Read more](./trigonometry/README.md)\n",
    "\n",
    "### 7. Calculus\n",
    "\n",
    "[Read more](./calculus/README.md)\n",
    "\n",
    "### 10. Combinatorics\n",
    "\n",
    "[Read more](./combinatorics/README.md)\n",
    "\n",
    "## Statistics\n",
    "\n",
    "### 20. Probability\n",
    "\n",
    "[Read more](./probability/README.md)\n",
    "\n",
    "### 21. Statistical inference\n",
    "\n",
    "[Read more](./statistical-inference/README.md)\n"
   ]
  },
  {
   "cell_type": "code",
   "execution_count": null,
   "id": "56298d6d-94b0-4921-bd0a-682b02f5f0ad",
   "metadata": {},
   "outputs": [],
   "source": []
  }
 ],
 "metadata": {
  "kernelspec": {
   "display_name": "Python 3 (ipykernel)",
   "language": "python",
   "name": "python3"
  },
  "language_info": {
   "codemirror_mode": {
    "name": "ipython",
    "version": 3
   },
   "file_extension": ".py",
   "mimetype": "text/x-python",
   "name": "python",
   "nbconvert_exporter": "python",
   "pygments_lexer": "ipython3",
   "version": "3.13.7"
  }
 },
 "nbformat": 4,
 "nbformat_minor": 5
}
