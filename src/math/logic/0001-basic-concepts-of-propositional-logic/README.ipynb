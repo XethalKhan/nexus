{
 "cells": [
  {
   "cell_type": "markdown",
   "id": "17e375e2-6326-4d5c-abed-19040197accd",
   "metadata": {},
   "source": [
    "# Basic concepts of propositional logic\n",
    "\n",
    "Beginner friendly introduction\n",
    "\n",
    "## 1. Proposition\n",
    "\n",
    "[Read more](./0001-proposition.ipynb)\n",
    "\n",
    "## 2. Negation\n",
    "\n",
    "[Read more](./0002-negation.ipynb)\n",
    "\n",
    "## 3. Conjunction\n",
    "\n",
    "[Read more](./0003-conjunction.ipynb)\n",
    "\n",
    "## 4. Disjunction\n",
    "\n",
    "[Read more](./0004-disjunction.ipynb)\n",
    "\n",
    "## 5. Statement form\n",
    "\n",
    "[Read more](./0005-statement-form.ipynb)\n",
    "\n",
    "## 6. Tautology\n",
    "\n",
    "[Read more](./0006-tautology.ipynb)\n",
    "\n",
    "## 7. Logically equivalent statements\n",
    "\n",
    "[Read more](./0007-logically-equivalent-statements.ipynb)\n",
    "\n",
    "## 8. Conditional\n",
    "\n",
    "[Read more](./0008-conditional.ipynb)\n",
    "\n",
    "## 9. Biconditional\n",
    "\n",
    "[Read more](./0009-biconditional.ipynb)\n",
    "\n",
    "## 10. Selected equivalences of propositional calculus\n",
    "\n",
    "[Read more](./0010-selected-equivalences-of-propositional-calculus.ipynb)\n",
    "\n",
    "## 11. Modus ponens\n",
    "\n",
    "[Read more](./0011-modus-ponens.ipynb)\n",
    "\n",
    "## 12. Selected implications of propositional calculus\n",
    "\n",
    "[Read more](./0012-selected-implications-of-propositional-calculus.ipynb)"
   ]
  }
 ],
 "metadata": {
  "kernelspec": {
   "display_name": "Python 3 (ipykernel)",
   "language": "python",
   "name": "python3"
  },
  "language_info": {
   "codemirror_mode": {
    "name": "ipython",
    "version": 3
   },
   "file_extension": ".py",
   "mimetype": "text/x-python",
   "name": "python",
   "nbconvert_exporter": "python",
   "pygments_lexer": "ipython3",
   "version": "3.13.7"
  }
 },
 "nbformat": 4,
 "nbformat_minor": 5
}
