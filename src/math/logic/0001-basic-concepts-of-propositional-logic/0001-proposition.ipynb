{
 "cells": [
  {
   "cell_type": "markdown",
   "id": "e2e42df6-b415-4266-abd2-4870e5f797aa",
   "metadata": {},
   "source": [
    "# Proposition\n",
    "\n",
    "A **statement**, or **proposition**, is a declarative sentence that is either true or false, but is not both true and false. The designation T (true) or F (false), one and only one of which is assignable to any given statement, is called **the truth value** of that statement. In the propositional calculus we use letters in lower case, such as $p, q$ and $r$ to represent statements. The propositional calculus is about **compound statements**, joined by one or more **logical connectives**. The truth or falsehood of these compound sentences, depends on the truth or falsehood of their component simple sentences and on characteristics of the connective involved in the compound sentences.\n",
    "\n",
    "## Reference\n",
    "\n",
    "1. Ronald P. Morash, *Bridge to abstract math. Mathematical proof and structures* (page 53, 54)"
   ]
  }
 ],
 "metadata": {
  "kernelspec": {
   "display_name": "Python 3 (ipykernel)",
   "language": "python",
   "name": "python3"
  },
  "language_info": {
   "codemirror_mode": {
    "name": "ipython",
    "version": 3
   },
   "file_extension": ".py",
   "mimetype": "text/x-python",
   "name": "python",
   "nbconvert_exporter": "python",
   "pygments_lexer": "ipython3",
   "version": "3.13.7"
  }
 },
 "nbformat": 4,
 "nbformat_minor": 5
}
