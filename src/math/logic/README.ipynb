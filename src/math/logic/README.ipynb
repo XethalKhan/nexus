{
 "cells": [
  {
   "cell_type": "markdown",
   "id": "f771478f-c539-4e12-b6c7-2e3950d3fe97",
   "metadata": {},
   "source": [
    "# Logic\n",
    "\n",
    "## 1. Basic concepts of propositional logic\n",
    "\n",
    "[Read more](./0001-basic-concepts-of-propositional-logic/README.ipynb)\n",
    "\n",
    "## 1001. Basic concepts of predicate logic\n",
    "\n",
    "[Read more](./1001-basic-concepts-of-predicate-logic/README.ipynb)"
   ]
  }
 ],
 "metadata": {
  "kernelspec": {
   "display_name": "Python 3 (ipykernel)",
   "language": "python",
   "name": "python3"
  },
  "language_info": {
   "codemirror_mode": {
    "name": "ipython",
    "version": 3
   },
   "file_extension": ".py",
   "mimetype": "text/x-python",
   "name": "python",
   "nbconvert_exporter": "python",
   "pygments_lexer": "ipython3",
   "version": "3.13.7"
  }
 },
 "nbformat": 4,
 "nbformat_minor": 5
}
